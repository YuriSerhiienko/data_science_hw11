{
  "nbformat": 4,
  "nbformat_minor": 0,
  "metadata": {
    "colab": {
      "provenance": [],
      "authorship_tag": "ABX9TyOBo2UwwO4rvxDjcthg+p9K",
      "include_colab_link": true
    },
    "kernelspec": {
      "name": "python3",
      "display_name": "Python 3"
    },
    "language_info": {
      "name": "python"
    }
  },
  "cells": [
    {
      "cell_type": "markdown",
      "metadata": {
        "id": "view-in-github",
        "colab_type": "text"
      },
      "source": [
        "<a href=\"https://colab.research.google.com/github/YuriSerhiienko/data_science_hw11/blob/main/hw11.ipynb\" target=\"_parent\"><img src=\"https://colab.research.google.com/assets/colab-badge.svg\" alt=\"Open In Colab\"/></a>"
      ]
    },
    {
      "cell_type": "code",
      "execution_count": 1,
      "metadata": {
        "colab": {
          "base_uri": "https://localhost:8080/"
        },
        "id": "30gNHXCqbkUU",
        "outputId": "b29567b0-1064-48dc-a513-8158c1418d72"
      },
      "outputs": [
        {
          "output_type": "stream",
          "name": "stdout",
          "text": [
            "Downloading data from https://storage.googleapis.com/tensorflow/tf-keras-datasets/imdb.npz\n",
            "17464789/17464789 [==============================] - 0s 0us/step\n"
          ]
        }
      ],
      "source": [
        "import numpy as np\n",
        "from keras.datasets import imdb\n",
        "from keras.models import Sequential\n",
        "from keras.layers import Dense, LSTM, Embedding, SimpleRNN, Bidirectional\n",
        "from keras.preprocessing import sequence\n",
        "\n",
        "# Завантаження та підготовка датасету\n",
        "top_words = 10000\n",
        "(X_train, y_train), (X_test, y_test) = imdb.load_data(num_words=top_words)\n",
        "max_review_length = 500\n",
        "X_train = sequence.pad_sequences(X_train, maxlen=max_review_length)\n",
        "X_test = sequence.pad_sequences(X_test, maxlen=max_review_length)"
      ]
    },
    {
      "cell_type": "code",
      "source": [
        "# Створення моделі RNN\n",
        "model = Sequential()\n",
        "model.add(Embedding(top_words, 32, input_length=max_review_length))\n",
        "model.add(SimpleRNN(32))\n",
        "model.add(Dense(1, activation='sigmoid'))\n",
        "\n",
        "model.compile(loss='binary_crossentropy', optimizer='adam', metrics=['accuracy'])\n",
        "print(model.summary())\n",
        "\n",
        "# Навчання моделі\n",
        "model.fit(X_train, y_train, validation_data=(X_test, y_test), epochs=3, batch_size=64)\n",
        "\n",
        "# Оцінка моделі\n",
        "scores = model.evaluate(X_test, y_test, verbose=0)\n",
        "print(\"Точність RNN: %.2f%%\" % (scores[1]*100))"
      ],
      "metadata": {
        "colab": {
          "base_uri": "https://localhost:8080/"
        },
        "id": "TJN54ogIb2u6",
        "outputId": "e8f6b518-65f8-41b3-a515-f6e0d1300401"
      },
      "execution_count": 2,
      "outputs": [
        {
          "output_type": "stream",
          "name": "stdout",
          "text": [
            "Model: \"sequential\"\n",
            "_________________________________________________________________\n",
            " Layer (type)                Output Shape              Param #   \n",
            "=================================================================\n",
            " embedding (Embedding)       (None, 500, 32)           320000    \n",
            "                                                                 \n",
            " simple_rnn (SimpleRNN)      (None, 32)                2080      \n",
            "                                                                 \n",
            " dense (Dense)               (None, 1)                 33        \n",
            "                                                                 \n",
            "=================================================================\n",
            "Total params: 322113 (1.23 MB)\n",
            "Trainable params: 322113 (1.23 MB)\n",
            "Non-trainable params: 0 (0.00 Byte)\n",
            "_________________________________________________________________\n",
            "None\n",
            "Epoch 1/3\n",
            "391/391 [==============================] - 36s 88ms/step - loss: 0.6425 - accuracy: 0.6256 - val_loss: 0.4874 - val_accuracy: 0.7741\n",
            "Epoch 2/3\n",
            "391/391 [==============================] - 32s 83ms/step - loss: 0.4200 - accuracy: 0.8091 - val_loss: 0.4160 - val_accuracy: 0.8090\n",
            "Epoch 3/3\n",
            "391/391 [==============================] - 32s 82ms/step - loss: 0.2632 - accuracy: 0.8969 - val_loss: 0.4160 - val_accuracy: 0.8258\n",
            "Точність RNN: 82.58%\n"
          ]
        }
      ]
    },
    {
      "cell_type": "code",
      "source": [
        "# Створення моделі LSTM\n",
        "lstm_model = Sequential()\n",
        "lstm_model.add(Embedding(top_words, 32, input_length=max_review_length))\n",
        "lstm_model.add(LSTM(32))\n",
        "lstm_model.add(Dense(1, activation='sigmoid'))\n",
        "\n",
        "lstm_model.compile(loss='binary_crossentropy', optimizer='adam', metrics=['accuracy'])\n",
        "print(lstm_model.summary())\n",
        "\n",
        "# Навчання моделі\n",
        "lstm_model.fit(X_train, y_train, validation_data=(X_test, y_test), epochs=3, batch_size=64)\n",
        "\n",
        "# Оцінка моделі\n",
        "scores = lstm_model.evaluate(X_test, y_test, verbose=0)\n",
        "print(\"Точність LSTM: %.2f%%\" % (scores[1]*100))"
      ],
      "metadata": {
        "colab": {
          "base_uri": "https://localhost:8080/"
        },
        "id": "wcZeUKN3cxGB",
        "outputId": "e4218240-5ab2-43b9-8d49-8c9331b11efc"
      },
      "execution_count": 3,
      "outputs": [
        {
          "output_type": "stream",
          "name": "stdout",
          "text": [
            "Model: \"sequential_1\"\n",
            "_________________________________________________________________\n",
            " Layer (type)                Output Shape              Param #   \n",
            "=================================================================\n",
            " embedding_1 (Embedding)     (None, 500, 32)           320000    \n",
            "                                                                 \n",
            " lstm (LSTM)                 (None, 32)                8320      \n",
            "                                                                 \n",
            " dense_1 (Dense)             (None, 1)                 33        \n",
            "                                                                 \n",
            "=================================================================\n",
            "Total params: 328353 (1.25 MB)\n",
            "Trainable params: 328353 (1.25 MB)\n",
            "Non-trainable params: 0 (0.00 Byte)\n",
            "_________________________________________________________________\n",
            "None\n",
            "Epoch 1/3\n",
            "391/391 [==============================] - 67s 167ms/step - loss: 0.4512 - accuracy: 0.7890 - val_loss: 0.3466 - val_accuracy: 0.8574\n",
            "Epoch 2/3\n",
            "391/391 [==============================] - 65s 167ms/step - loss: 0.2568 - accuracy: 0.9012 - val_loss: 0.3090 - val_accuracy: 0.8734\n",
            "Epoch 3/3\n",
            "391/391 [==============================] - 65s 167ms/step - loss: 0.1919 - accuracy: 0.9286 - val_loss: 0.3606 - val_accuracy: 0.8726\n",
            "Точність LSTM: 87.26%\n"
          ]
        }
      ]
    },
    {
      "cell_type": "code",
      "source": [
        "# Створення двосторонньої LSTM моделі\n",
        "bidirectional_lstm_model = Sequential()\n",
        "bidirectional_lstm_model.add(Embedding(top_words, 32, input_length=max_review_length))\n",
        "bidirectional_lstm_model.add(Bidirectional(LSTM(32)))\n",
        "bidirectional_lstm_model.add(Dense(1, activation='sigmoid'))\n",
        "\n",
        "bidirectional_lstm_model.compile(loss='binary_crossentropy', optimizer='adam', metrics=['accuracy'])\n",
        "print(bidirectional_lstm_model.summary())\n",
        "\n",
        "# Навчання моделі\n",
        "bidirectional_lstm_model.fit(X_train, y_train, validation_data=(X_test, y_test), epochs=3, batch_size=64)\n",
        "\n",
        "# Оцінка моделі\n",
        "scores = bidirectional_lstm_model.evaluate(X_test, y_test, verbose=0)\n",
        "print(\"Точність двосторонньої LSTM: %.2f%%\" % (scores[1]*100))"
      ],
      "metadata": {
        "colab": {
          "base_uri": "https://localhost:8080/"
        },
        "id": "DVKaboewd-O8",
        "outputId": "bd9241d2-38e8-4f36-dad3-eb9f0be1eb63"
      },
      "execution_count": 4,
      "outputs": [
        {
          "output_type": "stream",
          "name": "stdout",
          "text": [
            "Model: \"sequential_2\"\n",
            "_________________________________________________________________\n",
            " Layer (type)                Output Shape              Param #   \n",
            "=================================================================\n",
            " embedding_2 (Embedding)     (None, 500, 32)           320000    \n",
            "                                                                 \n",
            " bidirectional (Bidirection  (None, 64)                16640     \n",
            " al)                                                             \n",
            "                                                                 \n",
            " dense_2 (Dense)             (None, 1)                 65        \n",
            "                                                                 \n",
            "=================================================================\n",
            "Total params: 336705 (1.28 MB)\n",
            "Trainable params: 336705 (1.28 MB)\n",
            "Non-trainable params: 0 (0.00 Byte)\n",
            "_________________________________________________________________\n",
            "None\n",
            "Epoch 1/3\n",
            "391/391 [==============================] - 107s 267ms/step - loss: 0.5824 - accuracy: 0.7251 - val_loss: 0.6447 - val_accuracy: 0.6987\n",
            "Epoch 2/3\n",
            "391/391 [==============================] - 104s 266ms/step - loss: 0.4110 - accuracy: 0.8255 - val_loss: 0.3747 - val_accuracy: 0.8446\n",
            "Epoch 3/3\n",
            "391/391 [==============================] - 103s 264ms/step - loss: 0.3307 - accuracy: 0.8682 - val_loss: 0.3695 - val_accuracy: 0.8464\n",
            "Точність двосторонньої LSTM: 84.64%\n"
          ]
        }
      ]
    },
    {
      "cell_type": "markdown",
      "source": [
        "Проста RNN: 82.58%\n",
        "\n",
        "LSTM: 87.26%\n",
        "\n",
        "Двостороння LSTM: 84.64%\n",
        "\n",
        "LSTM показала найкращий результат, що є типовим для задач обробки послідовностей, оскільки LSTM ефективніше працює з довготривалими залежностями в даних."
      ],
      "metadata": {
        "id": "u6vyoxK_gRXz"
      }
    }
  ]
}